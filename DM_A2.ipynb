{
  "nbformat": 4,
  "nbformat_minor": 0,
  "metadata": {
    "colab": {
      "provenance": []
    },
    "kernelspec": {
      "name": "python3",
      "display_name": "Python 3"
    },
    "language_info": {
      "name": "python"
    }
  },
  "cells": [
    {
      "cell_type": "markdown",
      "source": [
        "# **Mount Google Drive**"
      ],
      "metadata": {
        "id": "xl153JRDVv2Y"
      }
    },
    {
      "cell_type": "code",
      "execution_count": 3,
      "metadata": {
        "colab": {
          "base_uri": "https://localhost:8080/"
        },
        "id": "KuHZYoMrT7cw",
        "outputId": "c627b39a-18f4-46ec-b0e7-94202b5e4edf"
      },
      "outputs": [
        {
          "output_type": "stream",
          "name": "stdout",
          "text": [
            "Drive already mounted at /content/drive; to attempt to forcibly remount, call drive.mount(\"/content/drive\", force_remount=True).\n"
          ]
        }
      ],
      "source": [
        "from google.colab import drive\n",
        "drive.mount('/content/drive')"
      ]
    },
    {
      "cell_type": "markdown",
      "source": [
        "# **Data Preprocessing for Mall Customers Dataset**"
      ],
      "metadata": {
        "id": "Bycp_03zV0Af"
      }
    },
    {
      "cell_type": "code",
      "source": [
        "import pandas as pd\n",
        "import numpy as np\n",
        "from sklearn.preprocessing import LabelEncoder, StandardScaler\n",
        "\n",
        "# Load Mall Customers dataset\n",
        "mall_data = pd.read_csv('/content/drive/MyDrive/archive (1).zip')\n",
        "\n",
        "# Check for missing values\n",
        "print(mall_data.isnull().sum())\n",
        "\n",
        "# Encode nominal data (Gender)\n",
        "le = LabelEncoder()\n",
        "mall_data['Gender'] = le.fit_transform(mall_data['Gender'])  # Male=1, Female=0\n",
        "\n",
        "# Standardize interval data\n",
        "scaler = StandardScaler()\n",
        "mall_data[['Annual Income (k$)', 'Spending Score (1-100)']] = scaler.fit_transform(\n",
        "    mall_data[['Annual Income (k$)', 'Spending Score (1-100)']]\n",
        ")\n",
        "\n",
        "print(mall_data.head())"
      ],
      "metadata": {
        "colab": {
          "base_uri": "https://localhost:8080/"
        },
        "id": "MpSdTS64U4yF",
        "outputId": "55d68f04-a882-48db-bb09-7fee8fdd8c69"
      },
      "execution_count": 4,
      "outputs": [
        {
          "output_type": "stream",
          "name": "stdout",
          "text": [
            "CustomerID                0\n",
            "Gender                    0\n",
            "Age                       0\n",
            "Annual Income (k$)        0\n",
            "Spending Score (1-100)    0\n",
            "dtype: int64\n",
            "   CustomerID  Gender  Age  Annual Income (k$)  Spending Score (1-100)\n",
            "0           1       1   19           -1.738999               -0.434801\n",
            "1           2       1   21           -1.738999                1.195704\n",
            "2           3       0   20           -1.700830               -1.715913\n",
            "3           4       0   23           -1.700830                1.040418\n",
            "4           5       0   31           -1.662660               -0.395980\n"
          ]
        }
      ]
    },
    {
      "cell_type": "markdown",
      "source": [
        "# **Unsupervised Learning and Validation**"
      ],
      "metadata": {
        "id": "780VN6j8V4Ix"
      }
    },
    {
      "cell_type": "code",
      "source": [
        "from sklearn.cluster import KMeans\n",
        "from sklearn.metrics import silhouette_score\n",
        "import matplotlib.pyplot as plt\n",
        "\n",
        "# Apply KMeans\n",
        "kmeans = KMeans(n_clusters=3, random_state=42)\n",
        "clusters = kmeans.fit_predict(mall_data[['Annual Income (k$)', 'Spending Score (1-100)']])\n",
        "\n",
        "# Add clusters to the dataset\n",
        "mall_data['Cluster'] = clusters\n",
        "\n",
        "# Silhouette Score\n",
        "sil_score = silhouette_score(mall_data[['Annual Income (k$)', 'Spending Score (1-100)']], clusters)\n",
        "print(f\"Silhouette Score: {sil_score}\")\n",
        "\n",
        "# Visualization\n",
        "plt.scatter(mall_data['Annual Income (k$)'], mall_data['Spending Score (1-100)'], c=clusters, cmap='viridis')\n",
        "plt.title(\"Cluster Visualization\")\n",
        "plt.xlabel(\"Annual Income (scaled)\")\n",
        "plt.ylabel(\"Spending Score (scaled)\")\n",
        "plt.show()"
      ],
      "metadata": {
        "colab": {
          "base_uri": "https://localhost:8080/",
          "height": 489
        },
        "id": "veBJpY28U8Pa",
        "outputId": "c90260b1-943f-4257-c114-a724d6411fd4"
      },
      "execution_count": 5,
      "outputs": [
        {
          "output_type": "stream",
          "name": "stdout",
          "text": [
            "Silhouette Score: 0.46658474419000145\n"
          ]
        },
        {
          "output_type": "display_data",
          "data": {
            "text/plain": [
              "<Figure size 640x480 with 1 Axes>"
            ],
            "image/png": "[encoded data removed]"
          },
          "metadata": {}
        }
      ]
    },
    {
      "cell_type": "markdown",
      "source": [
        "# **Feature Selection**"
      ],
      "metadata": {
        "id": "sOu8bhBGV77t"
      }
    },
    {
      "cell_type": "code",
      "source": [
        "from sklearn.feature_selection import SelectKBest, f_classif\n",
        "\n",
        "# Feature selection\n",
        "X = mall_data[['Age', 'Annual Income (k$)', 'Spending Score (1-100)']]\n",
        "y = mall_data['Cluster']\n",
        "selected_features = SelectKBest(score_func=f_classif, k=2).fit(X, y)\n",
        "\n",
        "# Selected feature indices\n",
        "print(\"Selected Features:\", selected_features.get_support(indices=True))"
      ],
      "metadata": {
        "colab": {
          "base_uri": "https://localhost:8080/"
        },
        "id": "gB5IdsNCU-tN",
        "outputId": "6193a39b-c86c-48a9-f0f9-e6759289a5a2"
      },
      "execution_count": 6,
      "outputs": [
        {
          "output_type": "stream",
          "name": "stdout",
          "text": [
            "Selected Features: [1 2]\n"
          ]
        }
      ]
    },
    {
      "cell_type": "markdown",
      "source": [
        "# **Supervised Learning**"
      ],
      "metadata": {
        "id": "xNWfE5XJWAB4"
      }
    },
    {
      "cell_type": "code",
      "source": [
        "from sklearn.model_selection import train_test_split\n",
        "from sklearn.ensemble import RandomForestClassifier, GradientBoostingClassifier\n",
        "from sklearn.linear_model import LogisticRegression\n",
        "from sklearn.svm import SVC\n",
        "from sklearn.metrics import classification_report, confusion_matrix\n",
        "\n",
        "# Split dataset\n",
        "X_train, X_test, y_train, y_test = train_test_split(X, y, test_size=0.3, random_state=42)\n",
        "\n",
        "# Define classifiers\n",
        "classifiers = {\n",
        "    \"Logistic Regression\": LogisticRegression(),\n",
        "    \"Random Forest\": RandomForestClassifier(),\n",
        "    \"SVM\": SVC(),\n",
        "    \"Gradient Boosting\": GradientBoostingClassifier(),\n",
        "}\n",
        "\n",
        "# Train and evaluate classifiers\n",
        "for name, clf in classifiers.items():\n",
        "    clf.fit(X_train, y_train)\n",
        "    y_pred = clf.predict(X_test)\n",
        "    print(f\"Results for {name}\")\n",
        "    print(\"Classification Report:\\n\", classification_report(y_test, y_pred))\n",
        "    print(\"Confusion Matrix:\\n\", confusion_matrix(y_test, y_pred))"
      ],
      "metadata": {
        "colab": {
          "base_uri": "https://localhost:8080/"
        },
        "id": "bjYwWDPyVBG1",
        "outputId": "4d4f4a52-ff29-41bb-9302-1cc729deb53f"
      },
      "execution_count": 7,
      "outputs": [
        {
          "output_type": "stream",
          "name": "stderr",
          "text": [
            "/usr/local/lib/python3.10/dist-packages/sklearn/linear_model/_logistic.py:469: ConvergenceWarning: lbfgs failed to converge (status=1):\n",
            "STOP: TOTAL NO. of ITERATIONS REACHED LIMIT.\n",
            "\n",
            "Increase the number of iterations (max_iter) or scale the data as shown in:\n",
            "    https://scikit-learn.org/stable/modules/preprocessing.html\n",
            "Please also refer to the documentation for alternative solver options:\n",
            "    https://scikit-learn.org/stable/modules/linear_model.html#logistic-regression\n",
            "  n_iter_i = _check_optimize_result(\n",
            "/usr/local/lib/python3.10/dist-packages/sklearn/metrics/_classification.py:1531: UndefinedMetricWarning: Precision is ill-defined and being set to 0.0 in labels with no predicted samples. Use `zero_division` parameter to control this behavior.\n",
            "  _warn_prf(average, modifier, f\"{metric.capitalize()} is\", len(result))\n",
            "/usr/local/lib/python3.10/dist-packages/sklearn/metrics/_classification.py:1531: UndefinedMetricWarning: Precision is ill-defined and being set to 0.0 in labels with no predicted samples. Use `zero_division` parameter to control this behavior.\n",
            "  _warn_prf(average, modifier, f\"{metric.capitalize()} is\", len(result))\n",
            "/usr/local/lib/python3.10/dist-packages/sklearn/metrics/_classification.py:1531: UndefinedMetricWarning: Precision is ill-defined and being set to 0.0 in labels with no predicted samples. Use `zero_division` parameter to control this behavior.\n",
            "  _warn_prf(average, modifier, f\"{metric.capitalize()} is\", len(result))\n"
          ]
        },
        {
          "output_type": "stream",
          "name": "stdout",
          "text": [
            "Results for Logistic Regression\n",
            "Classification Report:\n",
            "               precision    recall  f1-score   support\n",
            "\n",
            "           0       1.00      0.93      0.97        15\n",
            "           1       1.00      1.00      1.00         9\n",
            "           2       0.97      1.00      0.99        36\n",
            "\n",
            "    accuracy                           0.98        60\n",
            "   macro avg       0.99      0.98      0.98        60\n",
            "weighted avg       0.98      0.98      0.98        60\n",
            "\n",
            "Confusion Matrix:\n",
            " [[14  0  1]\n",
            " [ 0  9  0]\n",
            " [ 0  0 36]]\n",
            "Results for Random Forest\n",
            "Classification Report:\n",
            "               precision    recall  f1-score   support\n",
            "\n",
            "           0       1.00      1.00      1.00        15\n",
            "           1       0.90      1.00      0.95         9\n",
            "           2       1.00      0.97      0.99        36\n",
            "\n",
            "    accuracy                           0.98        60\n",
            "   macro avg       0.97      0.99      0.98        60\n",
            "weighted avg       0.98      0.98      0.98        60\n",
            "\n",
            "Confusion Matrix:\n",
            " [[15  0  0]\n",
            " [ 0  9  0]\n",
            " [ 0  1 35]]\n",
            "Results for SVM\n",
            "Classification Report:\n",
            "               precision    recall  f1-score   support\n",
            "\n",
            "           0       0.00      0.00      0.00        15\n",
            "           1       0.00      0.00      0.00         9\n",
            "           2       0.60      1.00      0.75        36\n",
            "\n",
            "    accuracy                           0.60        60\n",
            "   macro avg       0.20      0.33      0.25        60\n",
            "weighted avg       0.36      0.60      0.45        60\n",
            "\n",
            "Confusion Matrix:\n",
            " [[ 0  0 15]\n",
            " [ 0  0  9]\n",
            " [ 0  0 36]]\n",
            "Results for Gradient Boosting\n",
            "Classification Report:\n",
            "               precision    recall  f1-score   support\n",
            "\n",
            "           0       1.00      1.00      1.00        15\n",
            "           1       1.00      1.00      1.00         9\n",
            "           2       1.00      1.00      1.00        36\n",
            "\n",
            "    accuracy                           1.00        60\n",
            "   macro avg       1.00      1.00      1.00        60\n",
            "weighted avg       1.00      1.00      1.00        60\n",
            "\n",
            "Confusion Matrix:\n",
            " [[15  0  0]\n",
            " [ 0  9  0]\n",
            " [ 0  0 36]]\n"
          ]
        }
      ]
    },
    {
      "cell_type": "markdown",
      "source": [
        "# **Manual Feature Extraction for Iris Dataset**"
      ],
      "metadata": {
        "id": "MivGLh0fWEfC"
      }
    },
    {
      "cell_type": "code",
      "source": [
        "import pandas as pd\n",
        "import zipfile\n",
        "\n",
        "# Path to the ZIP file\n",
        "zip_file_path = '/content/drive/MyDrive/iris.zip'\n",
        "\n",
        "# Extract the file\n",
        "with zipfile.ZipFile(zip_file_path, 'r') as z:\n",
        "    z.extractall('/content/iris_data')  # Extract contents to a folder\n",
        "\n",
        "# Load the specific file (iris.data)\n",
        "iris_data = pd.read_csv('/content/iris_data/iris.data', header=None)\n",
        "\n",
        "# Add column names based on the Iris dataset structure\n",
        "iris_data.columns = ['sepal length (cm)', 'sepal width (cm)', 'petal length (cm)', 'petal width (cm)', 'target']\n",
        "\n",
        "# Map target to numerical labels if needed\n",
        "iris_data['target'] = iris_data['target'].astype('category').cat.codes\n",
        "\n",
        "print(iris_data.head())"
      ],
      "metadata": {
        "colab": {
          "base_uri": "https://localhost:8080/"
        },
        "id": "b-U0L-6GVD3H",
        "outputId": "38ba8c3c-8af2-48ad-a1d1-61ed72f353ea"
      },
      "execution_count": 9,
      "outputs": [
        {
          "output_type": "stream",
          "name": "stdout",
          "text": [
            "   sepal length (cm)  sepal width (cm)  petal length (cm)  petal width (cm)  \\\n",
            "0                5.1               3.5                1.4               0.2   \n",
            "1                4.9               3.0                1.4               0.2   \n",
            "2                4.7               3.2                1.3               0.2   \n",
            "3                4.6               3.1                1.5               0.2   \n",
            "4                5.0               3.6                1.4               0.2   \n",
            "\n",
            "   target  \n",
            "0       0  \n",
            "1       0  \n",
            "2       0  \n",
            "3       0  \n",
            "4       0  \n"
          ]
        }
      ]
    },
    {
      "cell_type": "markdown",
      "source": [
        "# **Automated Feature Extraction**"
      ],
      "metadata": {
        "id": "6mmK3bQOWIUT"
      }
    },
    {
      "cell_type": "code",
      "source": [
        "from sklearn.decomposition import PCA\n",
        "from sklearn.feature_selection import RFE\n",
        "from sklearn.ensemble import RandomForestClassifier\n",
        "\n",
        "# PCA for dimensionality reduction\n",
        "pca = PCA(n_components=2)\n",
        "iris_pca = pca.fit_transform(iris_data.iloc[:, :-1])\n",
        "print(\"PCA Components:\\n\", iris_pca[:5])\n",
        "\n",
        "# Recursive Feature Elimination (RFE)\n",
        "rfe = RFE(estimator=RandomForestClassifier(), n_features_to_select=2)\n",
        "rfe.fit(iris_data.iloc[:, :-1], iris_data['target'])\n",
        "print(\"Selected Features by RFE:\", rfe.support_)"
      ],
      "metadata": {
        "colab": {
          "base_uri": "https://localhost:8080/"
        },
        "id": "Ht9FhA3WVGBq",
        "outputId": "203c0855-29fe-4956-e173-e92a807650ed"
      },
      "execution_count": 10,
      "outputs": [
        {
          "output_type": "stream",
          "name": "stdout",
          "text": [
            "PCA Components:\n",
            " [[-2.68420713  0.32660731]\n",
            " [-2.71539062 -0.16955685]\n",
            " [-2.88981954 -0.13734561]\n",
            " [-2.7464372  -0.31112432]\n",
            " [-2.72859298  0.33392456]]\n",
            "Selected Features by RFE: [False False  True  True]\n"
          ]
        }
      ]
    }
  ]
}